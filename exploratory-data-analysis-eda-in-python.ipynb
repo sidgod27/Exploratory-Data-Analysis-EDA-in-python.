{
 "cells": [
  {
   "cell_type": "markdown",
   "metadata": {
    "id": "TOvht7vqQGdR"
   },
   "source": [
    "# Exploratory data analysis in Python."
   ]
  },
  {
   "cell_type": "markdown",
   "metadata": {
    "id": "mhA_0CQOTDQy"
   },
   "source": [
    "## Let us understand how to explore the data in python.\n"
   ]
  },
  {
   "cell_type": "markdown",
   "metadata": {
    "id": "TEfC0QszTKX_"
   },
   "source": [
    "\n",
    "![alt text](https://moriohcdn.b-cdn.net/ff3cc511fb.png)\n"
   ]
  },
  {
   "cell_type": "markdown",
   "metadata": {
    "id": "NMyUUHXcHdqt"
   },
   "source": [
    "Image Credits: Morioh"
   ]
  },
  {
   "cell_type": "markdown",
   "metadata": {
    "id": "dB_j6LtTTO5j"
   },
   "source": [
    "## Introduction"
   ]
  },
  {
   "cell_type": "markdown",
   "metadata": {
    "id": "8hg00soETQ3z"
   },
   "source": [
    "**What is Exploratory Data Analysis ?**\n",
    "\n",
    "Exploratory Data Analysis or (EDA) is understanding the data sets by summarizing their main characteristics often plotting them visually. This step is very important especially when we arrive at modeling the data in order to apply Machine learning. Plotting in EDA consists of Histograms, Box plot, Scatter plot and many more. It often takes much time to explore the data. Through the process of EDA, we can ask to define the problem statement or definition on our data set which is very important."
   ]
  },
  {
   "cell_type": "markdown",
   "metadata": {
    "id": "ZfelutoyTS25"
   },
   "source": [
    "**How to perform Exploratory Data Analysis ?**\n",
    "\n",
    "This is one such question that everyone is keen on knowing the answer. Well, the answer is it depends on the data set that you are working. There is no one method or common methods in order to perform EDA, whereas in this tutorial you can understand some common methods and plots that would be used in the EDA process."
   ]
  },
  {
   "cell_type": "markdown",
   "metadata": {
    "id": "n3VfNkBBw15s"
   },
   "source": [
    "**What data are we exploring today ?**\n",
    "\n",
    "\n",
    "\n",
    "Since I am a huge fan of cars, I got a very beautiful data-set of cars from Kaggle. The data-set can be downloaded from [here](https://www.kaggle.com/CooperUnion/cardataset). To give a piece of brief information about the data set this data contains more of 10, 000 rows and more than 10 columns which contains features of the car such as Engine Fuel Type, Engine HP, Transmission Type, highway MPG, city MPG and many more. So in this tutorial, we will explore the data and make it ready for modeling."
   ]
  },
  {
   "cell_type": "markdown",
   "metadata": {
    "id": "CQDO4JCqTThV"
   },
   "source": [
    "\n",
    "\n",
    "---\n",
    "\n"
   ]
  },
  {
   "cell_type": "markdown",
   "metadata": {
    "id": "FPSqz1wzTXvz"
   },
   "source": [
    "## 1. Importing the required libraries for EDA"
   ]
  },
  {
   "cell_type": "markdown",
   "metadata": {
    "id": "9eLMx1Ebwa92"
   },
   "source": [
    "Below are the libraries that are used in order to perform EDA (Exploratory data analysis) in this tutorial."
   ]
  },
  {
   "cell_type": "code",
   "execution_count": 1,
   "metadata": {
    "id": "GGyDovL2QDLa"
   },
   "outputs": [
    {
     "name": "stderr",
     "output_type": "stream",
     "text": [
      "C:\\Users\\jeet\\anaconda3\\lib\\site-packages\\scipy\\__init__.py:155: UserWarning: A NumPy version >=1.18.5 and <1.25.0 is required for this version of SciPy (detected version 1.26.1\n",
      "  warnings.warn(f\"A NumPy version >={np_minversion} and <{np_maxversion}\"\n"
     ]
    }
   ],
   "source": [
    "import pandas as pd\n",
    "import numpy as np\n",
    "import seaborn as sns                       #visualisation\n",
    "import matplotlib.pyplot as plt             #visualisation\n",
    "# %matplotlib inline     \n",
    "# sns.set(color_codes=True)"
   ]
  },
  {
   "cell_type": "markdown",
   "metadata": {
    "id": "Ye6eXuohTd5Q"
   },
   "source": [
    "\n",
    "\n",
    "---\n",
    "\n"
   ]
  },
  {
   "cell_type": "markdown",
   "metadata": {
    "id": "8Y3Z2DbKTfJt"
   },
   "source": [
    "## 2. Loading the data into the data frame."
   ]
  },
  {
   "cell_type": "markdown",
   "metadata": {
    "id": "ko5zGJFCySaz"
   },
   "source": [
    "Loading the data into the pandas data frame is certainly one of the most important steps in EDA, as we can see that the value from the data set is comma-separated. So all we have to do is to just read the CSV into a data frame and pandas data frame does the job for us."
   ]
  },
  {
   "cell_type": "markdown",
   "metadata": {
    "id": "LgzUzD61IM8h"
   },
   "source": [
    "To get or load the dataset into the notebook, all I did was one trivial step. In Google Colab at the left-hand side of the notebook, you will find a > (greater than symbol). When you click that you will find a tab with three options, you just have to select Files. Then you can easily upload your file with the help of the Upload option. No need to mount to the google drive or use any specific libraries just upload the data set and your job is done. One thing to remember in this step is that uploaded files will get deleted when this runtime is recycled. This is how I got the data set into the notebook."
   ]
  },
  {
   "cell_type": "code",
   "execution_count": 2,
   "metadata": {
    "id": "0oVZnezwQ159",
    "outputId": "f1e0fe18-8fa0-482a-e2b9-2ecd87d97d9d"
   },
   "outputs": [
    {
     "data": {
      "text/html": [
       "<div>\n",
       "<style scoped>\n",
       "    .dataframe tbody tr th:only-of-type {\n",
       "        vertical-align: middle;\n",
       "    }\n",
       "\n",
       "    .dataframe tbody tr th {\n",
       "        vertical-align: top;\n",
       "    }\n",
       "\n",
       "    .dataframe thead th {\n",
       "        text-align: right;\n",
       "    }\n",
       "</style>\n",
       "<table border=\"1\" class=\"dataframe\">\n",
       "  <thead>\n",
       "    <tr style=\"text-align: right;\">\n",
       "      <th></th>\n",
       "      <th>Make</th>\n",
       "      <th>Model</th>\n",
       "      <th>Year</th>\n",
       "      <th>Engine Fuel Type</th>\n",
       "      <th>Engine HP</th>\n",
       "      <th>Engine Cylinders</th>\n",
       "      <th>Transmission Type</th>\n",
       "      <th>Driven_Wheels</th>\n",
       "      <th>Number of Doors</th>\n",
       "      <th>Market Category</th>\n",
       "      <th>Vehicle Size</th>\n",
       "      <th>Vehicle Style</th>\n",
       "      <th>highway MPG</th>\n",
       "      <th>city mpg</th>\n",
       "      <th>Popularity</th>\n",
       "      <th>MSRP</th>\n",
       "    </tr>\n",
       "  </thead>\n",
       "  <tbody>\n",
       "    <tr>\n",
       "      <th>1558</th>\n",
       "      <td>Cadillac</td>\n",
       "      <td>ATS</td>\n",
       "      <td>2016</td>\n",
       "      <td>regular unleaded</td>\n",
       "      <td>335.0</td>\n",
       "      <td>6.0</td>\n",
       "      <td>AUTOMATIC</td>\n",
       "      <td>all wheel drive</td>\n",
       "      <td>4.0</td>\n",
       "      <td>Luxury,High-Performance</td>\n",
       "      <td>Midsize</td>\n",
       "      <td>Sedan</td>\n",
       "      <td>28</td>\n",
       "      <td>19</td>\n",
       "      <td>1624</td>\n",
       "      <td>49210</td>\n",
       "    </tr>\n",
       "    <tr>\n",
       "      <th>10476</th>\n",
       "      <td>Acura</td>\n",
       "      <td>TL</td>\n",
       "      <td>2013</td>\n",
       "      <td>premium unleaded (recommended)</td>\n",
       "      <td>305.0</td>\n",
       "      <td>6.0</td>\n",
       "      <td>MANUAL</td>\n",
       "      <td>all wheel drive</td>\n",
       "      <td>4.0</td>\n",
       "      <td>Luxury,Performance</td>\n",
       "      <td>Midsize</td>\n",
       "      <td>Sedan</td>\n",
       "      <td>25</td>\n",
       "      <td>17</td>\n",
       "      <td>204</td>\n",
       "      <td>43185</td>\n",
       "    </tr>\n",
       "    <tr>\n",
       "      <th>8349</th>\n",
       "      <td>Ford</td>\n",
       "      <td>Ranger</td>\n",
       "      <td>2010</td>\n",
       "      <td>regular unleaded</td>\n",
       "      <td>207.0</td>\n",
       "      <td>6.0</td>\n",
       "      <td>MANUAL</td>\n",
       "      <td>rear wheel drive</td>\n",
       "      <td>2.0</td>\n",
       "      <td>NaN</td>\n",
       "      <td>Compact</td>\n",
       "      <td>Extended Cab Pickup</td>\n",
       "      <td>21</td>\n",
       "      <td>15</td>\n",
       "      <td>5657</td>\n",
       "      <td>22155</td>\n",
       "    </tr>\n",
       "    <tr>\n",
       "      <th>1610</th>\n",
       "      <td>Dodge</td>\n",
       "      <td>Avenger</td>\n",
       "      <td>2012</td>\n",
       "      <td>flex-fuel (unleaded/E85)</td>\n",
       "      <td>283.0</td>\n",
       "      <td>6.0</td>\n",
       "      <td>AUTOMATIC</td>\n",
       "      <td>front wheel drive</td>\n",
       "      <td>4.0</td>\n",
       "      <td>Flex Fuel,Performance</td>\n",
       "      <td>Midsize</td>\n",
       "      <td>Sedan</td>\n",
       "      <td>29</td>\n",
       "      <td>19</td>\n",
       "      <td>1851</td>\n",
       "      <td>25995</td>\n",
       "    </tr>\n",
       "    <tr>\n",
       "      <th>1027</th>\n",
       "      <td>Audi</td>\n",
       "      <td>A3</td>\n",
       "      <td>2015</td>\n",
       "      <td>premium unleaded (recommended)</td>\n",
       "      <td>220.0</td>\n",
       "      <td>4.0</td>\n",
       "      <td>AUTOMATED_MANUAL</td>\n",
       "      <td>all wheel drive</td>\n",
       "      <td>2.0</td>\n",
       "      <td>Luxury</td>\n",
       "      <td>Compact</td>\n",
       "      <td>Convertible</td>\n",
       "      <td>32</td>\n",
       "      <td>23</td>\n",
       "      <td>3105</td>\n",
       "      <td>41150</td>\n",
       "    </tr>\n",
       "    <tr>\n",
       "      <th>11067</th>\n",
       "      <td>GMC</td>\n",
       "      <td>Typhoon</td>\n",
       "      <td>1992</td>\n",
       "      <td>regular unleaded</td>\n",
       "      <td>285.0</td>\n",
       "      <td>6.0</td>\n",
       "      <td>AUTOMATIC</td>\n",
       "      <td>all wheel drive</td>\n",
       "      <td>2.0</td>\n",
       "      <td>Factory Tuner,Performance</td>\n",
       "      <td>Compact</td>\n",
       "      <td>2dr SUV</td>\n",
       "      <td>17</td>\n",
       "      <td>14</td>\n",
       "      <td>549</td>\n",
       "      <td>5895</td>\n",
       "    </tr>\n",
       "    <tr>\n",
       "      <th>8851</th>\n",
       "      <td>Audi</td>\n",
       "      <td>S3</td>\n",
       "      <td>2016</td>\n",
       "      <td>premium unleaded (required)</td>\n",
       "      <td>292.0</td>\n",
       "      <td>4.0</td>\n",
       "      <td>AUTOMATED_MANUAL</td>\n",
       "      <td>all wheel drive</td>\n",
       "      <td>4.0</td>\n",
       "      <td>Factory Tuner,Luxury,High-Performance</td>\n",
       "      <td>Compact</td>\n",
       "      <td>Sedan</td>\n",
       "      <td>31</td>\n",
       "      <td>23</td>\n",
       "      <td>3105</td>\n",
       "      <td>42500</td>\n",
       "    </tr>\n",
       "    <tr>\n",
       "      <th>9004</th>\n",
       "      <td>GMC</td>\n",
       "      <td>Savana Cargo</td>\n",
       "      <td>2014</td>\n",
       "      <td>flex-fuel (unleaded/E85)</td>\n",
       "      <td>310.0</td>\n",
       "      <td>8.0</td>\n",
       "      <td>AUTOMATIC</td>\n",
       "      <td>all wheel drive</td>\n",
       "      <td>3.0</td>\n",
       "      <td>Flex Fuel</td>\n",
       "      <td>Midsize</td>\n",
       "      <td>Cargo Van</td>\n",
       "      <td>17</td>\n",
       "      <td>13</td>\n",
       "      <td>549</td>\n",
       "      <td>32760</td>\n",
       "    </tr>\n",
       "    <tr>\n",
       "      <th>6052</th>\n",
       "      <td>Volkswagen</td>\n",
       "      <td>Jetta SportWagen</td>\n",
       "      <td>2012</td>\n",
       "      <td>regular unleaded</td>\n",
       "      <td>170.0</td>\n",
       "      <td>5.0</td>\n",
       "      <td>AUTOMATIC</td>\n",
       "      <td>front wheel drive</td>\n",
       "      <td>4.0</td>\n",
       "      <td>NaN</td>\n",
       "      <td>Compact</td>\n",
       "      <td>Wagon</td>\n",
       "      <td>31</td>\n",
       "      <td>24</td>\n",
       "      <td>873</td>\n",
       "      <td>24210</td>\n",
       "    </tr>\n",
       "    <tr>\n",
       "      <th>1176</th>\n",
       "      <td>Hyundai</td>\n",
       "      <td>Accent</td>\n",
       "      <td>2014</td>\n",
       "      <td>regular unleaded</td>\n",
       "      <td>138.0</td>\n",
       "      <td>4.0</td>\n",
       "      <td>MANUAL</td>\n",
       "      <td>front wheel drive</td>\n",
       "      <td>4.0</td>\n",
       "      <td>Hatchback</td>\n",
       "      <td>Compact</td>\n",
       "      <td>4dr Hatchback</td>\n",
       "      <td>38</td>\n",
       "      <td>27</td>\n",
       "      <td>1439</td>\n",
       "      <td>16395</td>\n",
       "    </tr>\n",
       "  </tbody>\n",
       "</table>\n",
       "</div>"
      ],
      "text/plain": [
       "             Make             Model  Year                Engine Fuel Type  \\\n",
       "1558     Cadillac               ATS  2016                regular unleaded   \n",
       "10476       Acura                TL  2013  premium unleaded (recommended)   \n",
       "8349         Ford            Ranger  2010                regular unleaded   \n",
       "1610        Dodge           Avenger  2012        flex-fuel (unleaded/E85)   \n",
       "1027         Audi                A3  2015  premium unleaded (recommended)   \n",
       "11067         GMC           Typhoon  1992                regular unleaded   \n",
       "8851         Audi                S3  2016     premium unleaded (required)   \n",
       "9004          GMC      Savana Cargo  2014        flex-fuel (unleaded/E85)   \n",
       "6052   Volkswagen  Jetta SportWagen  2012                regular unleaded   \n",
       "1176      Hyundai            Accent  2014                regular unleaded   \n",
       "\n",
       "       Engine HP  Engine Cylinders Transmission Type      Driven_Wheels  \\\n",
       "1558       335.0               6.0         AUTOMATIC    all wheel drive   \n",
       "10476      305.0               6.0            MANUAL    all wheel drive   \n",
       "8349       207.0               6.0            MANUAL   rear wheel drive   \n",
       "1610       283.0               6.0         AUTOMATIC  front wheel drive   \n",
       "1027       220.0               4.0  AUTOMATED_MANUAL    all wheel drive   \n",
       "11067      285.0               6.0         AUTOMATIC    all wheel drive   \n",
       "8851       292.0               4.0  AUTOMATED_MANUAL    all wheel drive   \n",
       "9004       310.0               8.0         AUTOMATIC    all wheel drive   \n",
       "6052       170.0               5.0         AUTOMATIC  front wheel drive   \n",
       "1176       138.0               4.0            MANUAL  front wheel drive   \n",
       "\n",
       "       Number of Doors                        Market Category Vehicle Size  \\\n",
       "1558               4.0                Luxury,High-Performance      Midsize   \n",
       "10476              4.0                     Luxury,Performance      Midsize   \n",
       "8349               2.0                                    NaN      Compact   \n",
       "1610               4.0                  Flex Fuel,Performance      Midsize   \n",
       "1027               2.0                                 Luxury      Compact   \n",
       "11067              2.0              Factory Tuner,Performance      Compact   \n",
       "8851               4.0  Factory Tuner,Luxury,High-Performance      Compact   \n",
       "9004               3.0                              Flex Fuel      Midsize   \n",
       "6052               4.0                                    NaN      Compact   \n",
       "1176               4.0                              Hatchback      Compact   \n",
       "\n",
       "             Vehicle Style  highway MPG  city mpg  Popularity   MSRP  \n",
       "1558                 Sedan           28        19        1624  49210  \n",
       "10476                Sedan           25        17         204  43185  \n",
       "8349   Extended Cab Pickup           21        15        5657  22155  \n",
       "1610                 Sedan           29        19        1851  25995  \n",
       "1027           Convertible           32        23        3105  41150  \n",
       "11067              2dr SUV           17        14         549   5895  \n",
       "8851                 Sedan           31        23        3105  42500  \n",
       "9004             Cargo Van           17        13         549  32760  \n",
       "6052                 Wagon           31        24         873  24210  \n",
       "1176         4dr Hatchback           38        27        1439  16395  "
      ]
     },
     "execution_count": 2,
     "metadata": {},
     "output_type": "execute_result"
    }
   ],
   "source": [
    "df = pd.read_csv(\"data.csv\")\n",
    "# To display the top 5 rows \n",
    "df.head(5)         \n",
    "df.sample(10)\n",
    "# import os\n",
    "# os.getcwd()"
   ]
  },
  {
   "cell_type": "code",
   "execution_count": 3,
   "metadata": {
    "id": "Fm-9dzdTRKpe",
    "outputId": "7892eaf7-0605-4b92-e139-cf0553041e51"
   },
   "outputs": [
    {
     "data": {
      "text/html": [
       "<div>\n",
       "<style scoped>\n",
       "    .dataframe tbody tr th:only-of-type {\n",
       "        vertical-align: middle;\n",
       "    }\n",
       "\n",
       "    .dataframe tbody tr th {\n",
       "        vertical-align: top;\n",
       "    }\n",
       "\n",
       "    .dataframe thead th {\n",
       "        text-align: right;\n",
       "    }\n",
       "</style>\n",
       "<table border=\"1\" class=\"dataframe\">\n",
       "  <thead>\n",
       "    <tr style=\"text-align: right;\">\n",
       "      <th></th>\n",
       "      <th>Make</th>\n",
       "      <th>Model</th>\n",
       "      <th>Year</th>\n",
       "      <th>Engine Fuel Type</th>\n",
       "      <th>Engine HP</th>\n",
       "      <th>Engine Cylinders</th>\n",
       "      <th>Transmission Type</th>\n",
       "      <th>Driven_Wheels</th>\n",
       "      <th>Number of Doors</th>\n",
       "      <th>Market Category</th>\n",
       "      <th>Vehicle Size</th>\n",
       "      <th>Vehicle Style</th>\n",
       "      <th>highway MPG</th>\n",
       "      <th>city mpg</th>\n",
       "      <th>Popularity</th>\n",
       "      <th>MSRP</th>\n",
       "    </tr>\n",
       "  </thead>\n",
       "  <tbody>\n",
       "    <tr>\n",
       "      <th>11909</th>\n",
       "      <td>Acura</td>\n",
       "      <td>ZDX</td>\n",
       "      <td>2012</td>\n",
       "      <td>premium unleaded (required)</td>\n",
       "      <td>300.0</td>\n",
       "      <td>6.0</td>\n",
       "      <td>AUTOMATIC</td>\n",
       "      <td>all wheel drive</td>\n",
       "      <td>4.0</td>\n",
       "      <td>Crossover,Hatchback,Luxury</td>\n",
       "      <td>Midsize</td>\n",
       "      <td>4dr Hatchback</td>\n",
       "      <td>23</td>\n",
       "      <td>16</td>\n",
       "      <td>204</td>\n",
       "      <td>46120</td>\n",
       "    </tr>\n",
       "    <tr>\n",
       "      <th>11910</th>\n",
       "      <td>Acura</td>\n",
       "      <td>ZDX</td>\n",
       "      <td>2012</td>\n",
       "      <td>premium unleaded (required)</td>\n",
       "      <td>300.0</td>\n",
       "      <td>6.0</td>\n",
       "      <td>AUTOMATIC</td>\n",
       "      <td>all wheel drive</td>\n",
       "      <td>4.0</td>\n",
       "      <td>Crossover,Hatchback,Luxury</td>\n",
       "      <td>Midsize</td>\n",
       "      <td>4dr Hatchback</td>\n",
       "      <td>23</td>\n",
       "      <td>16</td>\n",
       "      <td>204</td>\n",
       "      <td>56670</td>\n",
       "    </tr>\n",
       "    <tr>\n",
       "      <th>11911</th>\n",
       "      <td>Acura</td>\n",
       "      <td>ZDX</td>\n",
       "      <td>2012</td>\n",
       "      <td>premium unleaded (required)</td>\n",
       "      <td>300.0</td>\n",
       "      <td>6.0</td>\n",
       "      <td>AUTOMATIC</td>\n",
       "      <td>all wheel drive</td>\n",
       "      <td>4.0</td>\n",
       "      <td>Crossover,Hatchback,Luxury</td>\n",
       "      <td>Midsize</td>\n",
       "      <td>4dr Hatchback</td>\n",
       "      <td>23</td>\n",
       "      <td>16</td>\n",
       "      <td>204</td>\n",
       "      <td>50620</td>\n",
       "    </tr>\n",
       "    <tr>\n",
       "      <th>11912</th>\n",
       "      <td>Acura</td>\n",
       "      <td>ZDX</td>\n",
       "      <td>2013</td>\n",
       "      <td>premium unleaded (recommended)</td>\n",
       "      <td>300.0</td>\n",
       "      <td>6.0</td>\n",
       "      <td>AUTOMATIC</td>\n",
       "      <td>all wheel drive</td>\n",
       "      <td>4.0</td>\n",
       "      <td>Crossover,Hatchback,Luxury</td>\n",
       "      <td>Midsize</td>\n",
       "      <td>4dr Hatchback</td>\n",
       "      <td>23</td>\n",
       "      <td>16</td>\n",
       "      <td>204</td>\n",
       "      <td>50920</td>\n",
       "    </tr>\n",
       "    <tr>\n",
       "      <th>11913</th>\n",
       "      <td>Lincoln</td>\n",
       "      <td>Zephyr</td>\n",
       "      <td>2006</td>\n",
       "      <td>regular unleaded</td>\n",
       "      <td>221.0</td>\n",
       "      <td>6.0</td>\n",
       "      <td>AUTOMATIC</td>\n",
       "      <td>front wheel drive</td>\n",
       "      <td>4.0</td>\n",
       "      <td>Luxury</td>\n",
       "      <td>Midsize</td>\n",
       "      <td>Sedan</td>\n",
       "      <td>26</td>\n",
       "      <td>17</td>\n",
       "      <td>61</td>\n",
       "      <td>28995</td>\n",
       "    </tr>\n",
       "  </tbody>\n",
       "</table>\n",
       "</div>"
      ],
      "text/plain": [
       "          Make   Model  Year                Engine Fuel Type  Engine HP  \\\n",
       "11909    Acura     ZDX  2012     premium unleaded (required)      300.0   \n",
       "11910    Acura     ZDX  2012     premium unleaded (required)      300.0   \n",
       "11911    Acura     ZDX  2012     premium unleaded (required)      300.0   \n",
       "11912    Acura     ZDX  2013  premium unleaded (recommended)      300.0   \n",
       "11913  Lincoln  Zephyr  2006                regular unleaded      221.0   \n",
       "\n",
       "       Engine Cylinders Transmission Type      Driven_Wheels  Number of Doors  \\\n",
       "11909               6.0         AUTOMATIC    all wheel drive              4.0   \n",
       "11910               6.0         AUTOMATIC    all wheel drive              4.0   \n",
       "11911               6.0         AUTOMATIC    all wheel drive              4.0   \n",
       "11912               6.0         AUTOMATIC    all wheel drive              4.0   \n",
       "11913               6.0         AUTOMATIC  front wheel drive              4.0   \n",
       "\n",
       "                  Market Category Vehicle Size  Vehicle Style  highway MPG  \\\n",
       "11909  Crossover,Hatchback,Luxury      Midsize  4dr Hatchback           23   \n",
       "11910  Crossover,Hatchback,Luxury      Midsize  4dr Hatchback           23   \n",
       "11911  Crossover,Hatchback,Luxury      Midsize  4dr Hatchback           23   \n",
       "11912  Crossover,Hatchback,Luxury      Midsize  4dr Hatchback           23   \n",
       "11913                      Luxury      Midsize          Sedan           26   \n",
       "\n",
       "       city mpg  Popularity   MSRP  \n",
       "11909        16         204  46120  \n",
       "11910        16         204  56670  \n",
       "11911        16         204  50620  \n",
       "11912        16         204  50920  \n",
       "11913        17          61  28995  "
      ]
     },
     "execution_count": 3,
     "metadata": {},
     "output_type": "execute_result"
    }
   ],
   "source": [
    "df.tail(5)                        # To display the botton 5 rows"
   ]
  },
  {
   "cell_type": "markdown",
   "metadata": {
    "id": "JjQnr4SPzaL5"
   },
   "source": [
    "\n",
    "\n",
    "---\n",
    "\n"
   ]
  },
  {
   "cell_type": "markdown",
   "metadata": {
    "id": "vAmC369yTpMF"
   },
   "source": [
    "## 3. Checking the types of data"
   ]
  },
  {
   "cell_type": "markdown",
   "metadata": {
    "id": "9ESKxikIzA1d"
   },
   "source": [
    "Here we check for the datatypes because sometimes the MSRP or the price of the car would be stored as a string, if in that case, we have to convert that string to the integer data only then we can plot the data via a graph. Here, in this case, the data is already in integer format so nothing to worry."
   ]
  },
  {
   "cell_type": "code",
   "execution_count": 4,
   "metadata": {
    "id": "qPbKQ0noRptD",
    "outputId": "6a5aea47-ad0c-4118-8471-d91b6432b339"
   },
   "outputs": [
    {
     "data": {
      "text/plain": [
       "Make                  object\n",
       "Model                 object\n",
       "Year                   int64\n",
       "Engine Fuel Type      object\n",
       "Engine HP            float64\n",
       "Engine Cylinders     float64\n",
       "Transmission Type     object\n",
       "Driven_Wheels         object\n",
       "Number of Doors      float64\n",
       "Market Category       object\n",
       "Vehicle Size          object\n",
       "Vehicle Style         object\n",
       "highway MPG            int64\n",
       "city mpg               int64\n",
       "Popularity             int64\n",
       "MSRP                   int64\n",
       "dtype: object"
      ]
     },
     "execution_count": 4,
     "metadata": {},
     "output_type": "execute_result"
    }
   ],
   "source": [
    "df.dtypes"
   ]
  },
  {
   "cell_type": "markdown",
   "metadata": {
    "id": "beRJyQAezdX8"
   },
   "source": [
    "\n",
    "\n",
    "---\n",
    "\n"
   ]
  },
  {
   "cell_type": "markdown",
   "metadata": {
    "id": "QoHuBhXxT5E9"
   },
   "source": [
    "## 4. Dropping irrelevant columns"
   ]
  },
  {
   "cell_type": "markdown",
   "metadata": {
    "id": "_3cy877Mze4H"
   },
   "source": [
    "This step is certainly needed in every EDA because sometimes there would be many columns that we never use in such cases dropping is the only solution. In this case, the columns such as Engine Fuel Type, Market Category, Vehicle style, Popularity, Number of doors, Vehicle Size doesn't make any sense to me so I just dropped for this instance."
   ]
  },
  {
   "cell_type": "code",
   "execution_count": 5,
   "metadata": {
    "id": "uvSkK8swTr9H",
    "outputId": "1734f538-a4a1-45b9-d656-7ddc0124dc35"
   },
   "outputs": [
    {
     "data": {
      "text/html": [
       "<div>\n",
       "<style scoped>\n",
       "    .dataframe tbody tr th:only-of-type {\n",
       "        vertical-align: middle;\n",
       "    }\n",
       "\n",
       "    .dataframe tbody tr th {\n",
       "        vertical-align: top;\n",
       "    }\n",
       "\n",
       "    .dataframe thead th {\n",
       "        text-align: right;\n",
       "    }\n",
       "</style>\n",
       "<table border=\"1\" class=\"dataframe\">\n",
       "  <thead>\n",
       "    <tr style=\"text-align: right;\">\n",
       "      <th></th>\n",
       "      <th>Make</th>\n",
       "      <th>Model</th>\n",
       "      <th>Year</th>\n",
       "      <th>Engine HP</th>\n",
       "      <th>Engine Cylinders</th>\n",
       "      <th>Transmission Type</th>\n",
       "      <th>Driven_Wheels</th>\n",
       "      <th>highway MPG</th>\n",
       "      <th>city mpg</th>\n",
       "      <th>MSRP</th>\n",
       "    </tr>\n",
       "  </thead>\n",
       "  <tbody>\n",
       "    <tr>\n",
       "      <th>0</th>\n",
       "      <td>BMW</td>\n",
       "      <td>1 Series M</td>\n",
       "      <td>2011</td>\n",
       "      <td>335.0</td>\n",
       "      <td>6.0</td>\n",
       "      <td>MANUAL</td>\n",
       "      <td>rear wheel drive</td>\n",
       "      <td>26</td>\n",
       "      <td>19</td>\n",
       "      <td>46135</td>\n",
       "    </tr>\n",
       "    <tr>\n",
       "      <th>1</th>\n",
       "      <td>BMW</td>\n",
       "      <td>1 Series</td>\n",
       "      <td>2011</td>\n",
       "      <td>300.0</td>\n",
       "      <td>6.0</td>\n",
       "      <td>MANUAL</td>\n",
       "      <td>rear wheel drive</td>\n",
       "      <td>28</td>\n",
       "      <td>19</td>\n",
       "      <td>40650</td>\n",
       "    </tr>\n",
       "    <tr>\n",
       "      <th>2</th>\n",
       "      <td>BMW</td>\n",
       "      <td>1 Series</td>\n",
       "      <td>2011</td>\n",
       "      <td>300.0</td>\n",
       "      <td>6.0</td>\n",
       "      <td>MANUAL</td>\n",
       "      <td>rear wheel drive</td>\n",
       "      <td>28</td>\n",
       "      <td>20</td>\n",
       "      <td>36350</td>\n",
       "    </tr>\n",
       "    <tr>\n",
       "      <th>3</th>\n",
       "      <td>BMW</td>\n",
       "      <td>1 Series</td>\n",
       "      <td>2011</td>\n",
       "      <td>230.0</td>\n",
       "      <td>6.0</td>\n",
       "      <td>MANUAL</td>\n",
       "      <td>rear wheel drive</td>\n",
       "      <td>28</td>\n",
       "      <td>18</td>\n",
       "      <td>29450</td>\n",
       "    </tr>\n",
       "    <tr>\n",
       "      <th>4</th>\n",
       "      <td>BMW</td>\n",
       "      <td>1 Series</td>\n",
       "      <td>2011</td>\n",
       "      <td>230.0</td>\n",
       "      <td>6.0</td>\n",
       "      <td>MANUAL</td>\n",
       "      <td>rear wheel drive</td>\n",
       "      <td>28</td>\n",
       "      <td>18</td>\n",
       "      <td>34500</td>\n",
       "    </tr>\n",
       "  </tbody>\n",
       "</table>\n",
       "</div>"
      ],
      "text/plain": [
       "  Make       Model  Year  Engine HP  Engine Cylinders Transmission Type  \\\n",
       "0  BMW  1 Series M  2011      335.0               6.0            MANUAL   \n",
       "1  BMW    1 Series  2011      300.0               6.0            MANUAL   \n",
       "2  BMW    1 Series  2011      300.0               6.0            MANUAL   \n",
       "3  BMW    1 Series  2011      230.0               6.0            MANUAL   \n",
       "4  BMW    1 Series  2011      230.0               6.0            MANUAL   \n",
       "\n",
       "      Driven_Wheels  highway MPG  city mpg   MSRP  \n",
       "0  rear wheel drive           26        19  46135  \n",
       "1  rear wheel drive           28        19  40650  \n",
       "2  rear wheel drive           28        20  36350  \n",
       "3  rear wheel drive           28        18  29450  \n",
       "4  rear wheel drive           28        18  34500  "
      ]
     },
     "execution_count": 5,
     "metadata": {},
     "output_type": "execute_result"
    }
   ],
   "source": [
    "df = df.drop(['Engine Fuel Type', 'Market Category', 'Vehicle Style', 'Popularity', 'Number of Doors', 'Vehicle Size'], axis=1)\n",
    "df.head(5)\n",
    "# df.dtypes\n"
   ]
  },
  {
   "cell_type": "code",
   "execution_count": 8,
   "metadata": {},
   "outputs": [
    {
     "data": {
      "text/plain": [
       "'C:\\\\Users\\\\jeet\\\\Desktop'"
      ]
     },
     "execution_count": 8,
     "metadata": {},
     "output_type": "execute_result"
    }
   ],
   "source": [
    "import os\n",
    "os.getcwd()"
   ]
  },
  {
   "cell_type": "markdown",
   "metadata": {
    "id": "20OeQBpWz89v"
   },
   "source": [
    "\n",
    "\n",
    "---\n",
    "\n"
   ]
  },
  {
   "cell_type": "markdown",
   "metadata": {
    "id": "caAownWdUZso"
   },
   "source": [
    "## 5. Renaming the columns"
   ]
  },
  {
   "cell_type": "markdown",
   "metadata": {
    "id": "UABLiEcyz-2G"
   },
   "source": [
    "In this instance, most of the column names are very confusing to read, so I just tweaked their column names. This is a good approach it improves the readability of the data set."
   ]
  },
  {
   "cell_type": "code",
   "execution_count": 6,
   "metadata": {
    "id": "1wHW41whURub",
    "outputId": "dec9b1b3-e344-4b33-92fd-6e9f4c03c878"
   },
   "outputs": [
    {
     "data": {
      "text/html": [
       "<div>\n",
       "<style scoped>\n",
       "    .dataframe tbody tr th:only-of-type {\n",
       "        vertical-align: middle;\n",
       "    }\n",
       "\n",
       "    .dataframe tbody tr th {\n",
       "        vertical-align: top;\n",
       "    }\n",
       "\n",
       "    .dataframe thead th {\n",
       "        text-align: right;\n",
       "    }\n",
       "</style>\n",
       "<table border=\"1\" class=\"dataframe\">\n",
       "  <thead>\n",
       "    <tr style=\"text-align: right;\">\n",
       "      <th></th>\n",
       "      <th>Make</th>\n",
       "      <th>Model</th>\n",
       "      <th>Year</th>\n",
       "      <th>HP</th>\n",
       "      <th>Cylinders</th>\n",
       "      <th>Transmission</th>\n",
       "      <th>Drive Mode</th>\n",
       "      <th>MPG-H</th>\n",
       "      <th>MPG-C</th>\n",
       "      <th>Price</th>\n",
       "    </tr>\n",
       "  </thead>\n",
       "  <tbody>\n",
       "    <tr>\n",
       "      <th>0</th>\n",
       "      <td>BMW</td>\n",
       "      <td>1 Series M</td>\n",
       "      <td>2011</td>\n",
       "      <td>335.0</td>\n",
       "      <td>6.0</td>\n",
       "      <td>MANUAL</td>\n",
       "      <td>rear wheel drive</td>\n",
       "      <td>26</td>\n",
       "      <td>19</td>\n",
       "      <td>46135</td>\n",
       "    </tr>\n",
       "    <tr>\n",
       "      <th>1</th>\n",
       "      <td>BMW</td>\n",
       "      <td>1 Series</td>\n",
       "      <td>2011</td>\n",
       "      <td>300.0</td>\n",
       "      <td>6.0</td>\n",
       "      <td>MANUAL</td>\n",
       "      <td>rear wheel drive</td>\n",
       "      <td>28</td>\n",
       "      <td>19</td>\n",
       "      <td>40650</td>\n",
       "    </tr>\n",
       "    <tr>\n",
       "      <th>2</th>\n",
       "      <td>BMW</td>\n",
       "      <td>1 Series</td>\n",
       "      <td>2011</td>\n",
       "      <td>300.0</td>\n",
       "      <td>6.0</td>\n",
       "      <td>MANUAL</td>\n",
       "      <td>rear wheel drive</td>\n",
       "      <td>28</td>\n",
       "      <td>20</td>\n",
       "      <td>36350</td>\n",
       "    </tr>\n",
       "    <tr>\n",
       "      <th>3</th>\n",
       "      <td>BMW</td>\n",
       "      <td>1 Series</td>\n",
       "      <td>2011</td>\n",
       "      <td>230.0</td>\n",
       "      <td>6.0</td>\n",
       "      <td>MANUAL</td>\n",
       "      <td>rear wheel drive</td>\n",
       "      <td>28</td>\n",
       "      <td>18</td>\n",
       "      <td>29450</td>\n",
       "    </tr>\n",
       "    <tr>\n",
       "      <th>4</th>\n",
       "      <td>BMW</td>\n",
       "      <td>1 Series</td>\n",
       "      <td>2011</td>\n",
       "      <td>230.0</td>\n",
       "      <td>6.0</td>\n",
       "      <td>MANUAL</td>\n",
       "      <td>rear wheel drive</td>\n",
       "      <td>28</td>\n",
       "      <td>18</td>\n",
       "      <td>34500</td>\n",
       "    </tr>\n",
       "  </tbody>\n",
       "</table>\n",
       "</div>"
      ],
      "text/plain": [
       "  Make       Model  Year     HP  Cylinders Transmission        Drive Mode  \\\n",
       "0  BMW  1 Series M  2011  335.0        6.0       MANUAL  rear wheel drive   \n",
       "1  BMW    1 Series  2011  300.0        6.0       MANUAL  rear wheel drive   \n",
       "2  BMW    1 Series  2011  300.0        6.0       MANUAL  rear wheel drive   \n",
       "3  BMW    1 Series  2011  230.0        6.0       MANUAL  rear wheel drive   \n",
       "4  BMW    1 Series  2011  230.0        6.0       MANUAL  rear wheel drive   \n",
       "\n",
       "   MPG-H  MPG-C  Price  \n",
       "0     26     19  46135  \n",
       "1     28     19  40650  \n",
       "2     28     20  36350  \n",
       "3     28     18  29450  \n",
       "4     28     18  34500  "
      ]
     },
     "execution_count": 6,
     "metadata": {},
     "output_type": "execute_result"
    }
   ],
   "source": [
    "df = df.rename(columns={\"Engine HP\": \"HP\", \"Engine Cylinders\": \"Cylinders\", \"Transmission Type\": \"Transmission\", \"Driven_Wheels\": \"Drive Mode\",\"highway MPG\": \"MPG-H\", \"city mpg\": \"MPG-C\", \"MSRP\": \"Price\" })\n",
    "df.head()"
   ]
  },
  {
   "cell_type": "markdown",
   "metadata": {
    "id": "5tcGiOmV0afN"
   },
   "source": [
    "\n",
    "\n",
    "---\n",
    "\n"
   ]
  },
  {
   "cell_type": "markdown",
   "metadata": {
    "id": "uiW7x_O4WIDX"
   },
   "source": [
    "## 6. Dropping the duplicate rows"
   ]
  },
  {
   "cell_type": "markdown",
   "metadata": {
    "id": "9LpR5NW70hXm"
   },
   "source": [
    "This is often a handy thing to do because a huge data set as in this case contains more than 10, 000 rows often have some duplicate data which might be disturbing, so here I remove all the duplicate value from the data-set. For example prior to removing I had 11914 rows of data but after removing the duplicates 10925 data meaning that I had 989 of duplicate data."
   ]
  },
  {
   "cell_type": "code",
   "execution_count": 1,
   "metadata": {
    "id": "1nBN_BCDWSmv",
    "outputId": "9a070a7d-a4d4-45c7-cac8-acb2c4db0e72"
   },
   "outputs": [
    {
     "ename": "NameError",
     "evalue": "name 'df' is not defined",
     "output_type": "error",
     "traceback": [
      "\u001b[1;31m---------------------------------------------------------------------------\u001b[0m",
      "\u001b[1;31mNameError\u001b[0m                                 Traceback (most recent call last)",
      "Cell \u001b[1;32mIn[1], line 1\u001b[0m\n\u001b[1;32m----> 1\u001b[0m \u001b[43mdf\u001b[49m\u001b[38;5;241m.\u001b[39mshape\n",
      "\u001b[1;31mNameError\u001b[0m: name 'df' is not defined"
     ]
    }
   ],
   "source": [
    "df.shape"
   ]
  },
  {
   "cell_type": "code",
   "execution_count": 8,
   "metadata": {
    "id": "yB8t6o0wH7If",
    "outputId": "d4778cd1-5372-4e27-db62-20635493786e"
   },
   "outputs": [
    {
     "name": "stdout",
     "output_type": "stream",
     "text": [
      "number of duplicate rows:  (989, 10)\n"
     ]
    }
   ],
   "source": [
    "duplicate_rows_df = df[df.duplicated()]\n",
    "print(\"number of duplicate rows: \", duplicate_rows_df.shape)"
   ]
  },
  {
   "cell_type": "markdown",
   "metadata": {
    "id": "chhNvMFCIzqI"
   },
   "source": [
    "Now let us remove the duplicate data because it's ok to remove them."
   ]
  },
  {
   "cell_type": "code",
   "execution_count": 9,
   "metadata": {
    "id": "kuobmetTV820",
    "outputId": "c6d6ce5c-6a38-4cd2-ee99-151124a1f84d"
   },
   "outputs": [
    {
     "data": {
      "text/plain": [
       "Make            11914\n",
       "Model           11914\n",
       "Year            11914\n",
       "HP              11845\n",
       "Cylinders       11884\n",
       "Transmission    11914\n",
       "Drive Mode      11914\n",
       "MPG-H           11914\n",
       "MPG-C           11914\n",
       "Price           11914\n",
       "dtype: int64"
      ]
     },
     "execution_count": 9,
     "metadata": {},
     "output_type": "execute_result"
    }
   ],
   "source": [
    "df.count()      # Used to count the number of rows"
   ]
  },
  {
   "cell_type": "markdown",
   "metadata": {
    "id": "_MJKjbzHI40K"
   },
   "source": [
    "So seen above there are 11914 rows and we are removing 989 rows of duplicate data."
   ]
  },
  {
   "cell_type": "code",
   "execution_count": 10,
   "metadata": {
    "id": "OiOsEF6WVTSj",
    "outputId": "a527c1a2-5d74-42bb-99e2-8112ebffb871"
   },
   "outputs": [
    {
     "data": {
      "text/html": [
       "<div>\n",
       "<style scoped>\n",
       "    .dataframe tbody tr th:only-of-type {\n",
       "        vertical-align: middle;\n",
       "    }\n",
       "\n",
       "    .dataframe tbody tr th {\n",
       "        vertical-align: top;\n",
       "    }\n",
       "\n",
       "    .dataframe thead th {\n",
       "        text-align: right;\n",
       "    }\n",
       "</style>\n",
       "<table border=\"1\" class=\"dataframe\">\n",
       "  <thead>\n",
       "    <tr style=\"text-align: right;\">\n",
       "      <th></th>\n",
       "      <th>Make</th>\n",
       "      <th>Model</th>\n",
       "      <th>Year</th>\n",
       "      <th>HP</th>\n",
       "      <th>Cylinders</th>\n",
       "      <th>Transmission</th>\n",
       "      <th>Drive Mode</th>\n",
       "      <th>MPG-H</th>\n",
       "      <th>MPG-C</th>\n",
       "      <th>Price</th>\n",
       "    </tr>\n",
       "  </thead>\n",
       "  <tbody>\n",
       "    <tr>\n",
       "      <th>8092</th>\n",
       "      <td>Dodge</td>\n",
       "      <td>RAM 250</td>\n",
       "      <td>1992</td>\n",
       "      <td>230.0</td>\n",
       "      <td>8.0</td>\n",
       "      <td>MANUAL</td>\n",
       "      <td>rear wheel drive</td>\n",
       "      <td>16</td>\n",
       "      <td>11</td>\n",
       "      <td>2000</td>\n",
       "    </tr>\n",
       "    <tr>\n",
       "      <th>11745</th>\n",
       "      <td>Nissan</td>\n",
       "      <td>Xterra</td>\n",
       "      <td>2013</td>\n",
       "      <td>261.0</td>\n",
       "      <td>6.0</td>\n",
       "      <td>MANUAL</td>\n",
       "      <td>four wheel drive</td>\n",
       "      <td>20</td>\n",
       "      <td>16</td>\n",
       "      <td>29440</td>\n",
       "    </tr>\n",
       "    <tr>\n",
       "      <th>10735</th>\n",
       "      <td>Ford</td>\n",
       "      <td>Transit Wagon</td>\n",
       "      <td>2017</td>\n",
       "      <td>275.0</td>\n",
       "      <td>6.0</td>\n",
       "      <td>AUTOMATIC</td>\n",
       "      <td>rear wheel drive</td>\n",
       "      <td>19</td>\n",
       "      <td>14</td>\n",
       "      <td>42220</td>\n",
       "    </tr>\n",
       "    <tr>\n",
       "      <th>8689</th>\n",
       "      <td>Lexus</td>\n",
       "      <td>RX 450h</td>\n",
       "      <td>2015</td>\n",
       "      <td>295.0</td>\n",
       "      <td>6.0</td>\n",
       "      <td>AUTOMATIC</td>\n",
       "      <td>all wheel drive</td>\n",
       "      <td>28</td>\n",
       "      <td>30</td>\n",
       "      <td>49020</td>\n",
       "    </tr>\n",
       "    <tr>\n",
       "      <th>3060</th>\n",
       "      <td>Honda</td>\n",
       "      <td>CR-V</td>\n",
       "      <td>2016</td>\n",
       "      <td>185.0</td>\n",
       "      <td>4.0</td>\n",
       "      <td>AUTOMATIC</td>\n",
       "      <td>all wheel drive</td>\n",
       "      <td>31</td>\n",
       "      <td>25</td>\n",
       "      <td>25845</td>\n",
       "    </tr>\n",
       "    <tr>\n",
       "      <th>9672</th>\n",
       "      <td>Mercedes-Benz</td>\n",
       "      <td>SLC-Class</td>\n",
       "      <td>2017</td>\n",
       "      <td>241.0</td>\n",
       "      <td>4.0</td>\n",
       "      <td>AUTOMATIC</td>\n",
       "      <td>rear wheel drive</td>\n",
       "      <td>32</td>\n",
       "      <td>25</td>\n",
       "      <td>47950</td>\n",
       "    </tr>\n",
       "    <tr>\n",
       "      <th>8416</th>\n",
       "      <td>Lexus</td>\n",
       "      <td>RC F</td>\n",
       "      <td>2016</td>\n",
       "      <td>467.0</td>\n",
       "      <td>8.0</td>\n",
       "      <td>AUTOMATIC</td>\n",
       "      <td>rear wheel drive</td>\n",
       "      <td>25</td>\n",
       "      <td>16</td>\n",
       "      <td>62805</td>\n",
       "    </tr>\n",
       "    <tr>\n",
       "      <th>10786</th>\n",
       "      <td>Chevrolet</td>\n",
       "      <td>Trax</td>\n",
       "      <td>2017</td>\n",
       "      <td>138.0</td>\n",
       "      <td>4.0</td>\n",
       "      <td>AUTOMATIC</td>\n",
       "      <td>front wheel drive</td>\n",
       "      <td>33</td>\n",
       "      <td>25</td>\n",
       "      <td>21000</td>\n",
       "    </tr>\n",
       "    <tr>\n",
       "      <th>9601</th>\n",
       "      <td>Chevrolet</td>\n",
       "      <td>Silverado 1500</td>\n",
       "      <td>2017</td>\n",
       "      <td>285.0</td>\n",
       "      <td>6.0</td>\n",
       "      <td>AUTOMATIC</td>\n",
       "      <td>rear wheel drive</td>\n",
       "      <td>24</td>\n",
       "      <td>18</td>\n",
       "      <td>37835</td>\n",
       "    </tr>\n",
       "    <tr>\n",
       "      <th>9404</th>\n",
       "      <td>GMC</td>\n",
       "      <td>Sierra 1500HD</td>\n",
       "      <td>2006</td>\n",
       "      <td>300.0</td>\n",
       "      <td>8.0</td>\n",
       "      <td>AUTOMATIC</td>\n",
       "      <td>four wheel drive</td>\n",
       "      <td>16</td>\n",
       "      <td>13</td>\n",
       "      <td>34640</td>\n",
       "    </tr>\n",
       "    <tr>\n",
       "      <th>3833</th>\n",
       "      <td>Hyundai</td>\n",
       "      <td>Elantra Coupe</td>\n",
       "      <td>2013</td>\n",
       "      <td>145.0</td>\n",
       "      <td>4.0</td>\n",
       "      <td>AUTOMATIC</td>\n",
       "      <td>front wheel drive</td>\n",
       "      <td>37</td>\n",
       "      <td>27</td>\n",
       "      <td>20895</td>\n",
       "    </tr>\n",
       "    <tr>\n",
       "      <th>11431</th>\n",
       "      <td>Ford</td>\n",
       "      <td>Windstar</td>\n",
       "      <td>2001</td>\n",
       "      <td>200.0</td>\n",
       "      <td>6.0</td>\n",
       "      <td>AUTOMATIC</td>\n",
       "      <td>front wheel drive</td>\n",
       "      <td>22</td>\n",
       "      <td>16</td>\n",
       "      <td>25000</td>\n",
       "    </tr>\n",
       "    <tr>\n",
       "      <th>3797</th>\n",
       "      <td>Ford</td>\n",
       "      <td>Edge</td>\n",
       "      <td>2015</td>\n",
       "      <td>245.0</td>\n",
       "      <td>4.0</td>\n",
       "      <td>AUTOMATIC</td>\n",
       "      <td>all wheel drive</td>\n",
       "      <td>28</td>\n",
       "      <td>20</td>\n",
       "      <td>37595</td>\n",
       "    </tr>\n",
       "    <tr>\n",
       "      <th>2645</th>\n",
       "      <td>Chevrolet</td>\n",
       "      <td>C/K 1500 Series</td>\n",
       "      <td>1998</td>\n",
       "      <td>200.0</td>\n",
       "      <td>6.0</td>\n",
       "      <td>MANUAL</td>\n",
       "      <td>rear wheel drive</td>\n",
       "      <td>21</td>\n",
       "      <td>16</td>\n",
       "      <td>2580</td>\n",
       "    </tr>\n",
       "    <tr>\n",
       "      <th>4608</th>\n",
       "      <td>Ford</td>\n",
       "      <td>F-250</td>\n",
       "      <td>1997</td>\n",
       "      <td>220.0</td>\n",
       "      <td>8.0</td>\n",
       "      <td>MANUAL</td>\n",
       "      <td>rear wheel drive</td>\n",
       "      <td>17</td>\n",
       "      <td>12</td>\n",
       "      <td>2787</td>\n",
       "    </tr>\n",
       "    <tr>\n",
       "      <th>1448</th>\n",
       "      <td>Nissan</td>\n",
       "      <td>Armada</td>\n",
       "      <td>2017</td>\n",
       "      <td>390.0</td>\n",
       "      <td>8.0</td>\n",
       "      <td>AUTOMATIC</td>\n",
       "      <td>four wheel drive</td>\n",
       "      <td>18</td>\n",
       "      <td>13</td>\n",
       "      <td>60490</td>\n",
       "    </tr>\n",
       "    <tr>\n",
       "      <th>11461</th>\n",
       "      <td>Subaru</td>\n",
       "      <td>WRX</td>\n",
       "      <td>2016</td>\n",
       "      <td>268.0</td>\n",
       "      <td>4.0</td>\n",
       "      <td>MANUAL</td>\n",
       "      <td>all wheel drive</td>\n",
       "      <td>27</td>\n",
       "      <td>20</td>\n",
       "      <td>28895</td>\n",
       "    </tr>\n",
       "    <tr>\n",
       "      <th>23</th>\n",
       "      <td>Audi</td>\n",
       "      <td>100</td>\n",
       "      <td>1993</td>\n",
       "      <td>172.0</td>\n",
       "      <td>6.0</td>\n",
       "      <td>AUTOMATIC</td>\n",
       "      <td>all wheel drive</td>\n",
       "      <td>20</td>\n",
       "      <td>16</td>\n",
       "      <td>2000</td>\n",
       "    </tr>\n",
       "    <tr>\n",
       "      <th>527</th>\n",
       "      <td>BMW</td>\n",
       "      <td>5 Series</td>\n",
       "      <td>2016</td>\n",
       "      <td>240.0</td>\n",
       "      <td>4.0</td>\n",
       "      <td>AUTOMATIC</td>\n",
       "      <td>rear wheel drive</td>\n",
       "      <td>34</td>\n",
       "      <td>23</td>\n",
       "      <td>50200</td>\n",
       "    </tr>\n",
       "    <tr>\n",
       "      <th>7274</th>\n",
       "      <td>Lexus</td>\n",
       "      <td>NX 200t</td>\n",
       "      <td>2016</td>\n",
       "      <td>235.0</td>\n",
       "      <td>4.0</td>\n",
       "      <td>AUTOMATIC</td>\n",
       "      <td>front wheel drive</td>\n",
       "      <td>28</td>\n",
       "      <td>22</td>\n",
       "      <td>34965</td>\n",
       "    </tr>\n",
       "    <tr>\n",
       "      <th>8187</th>\n",
       "      <td>Dodge</td>\n",
       "      <td>Ram Pickup 1500</td>\n",
       "      <td>2010</td>\n",
       "      <td>310.0</td>\n",
       "      <td>8.0</td>\n",
       "      <td>AUTOMATIC</td>\n",
       "      <td>rear wheel drive</td>\n",
       "      <td>19</td>\n",
       "      <td>14</td>\n",
       "      <td>25155</td>\n",
       "    </tr>\n",
       "    <tr>\n",
       "      <th>7348</th>\n",
       "      <td>Subaru</td>\n",
       "      <td>Outback</td>\n",
       "      <td>2017</td>\n",
       "      <td>256.0</td>\n",
       "      <td>6.0</td>\n",
       "      <td>AUTOMATIC</td>\n",
       "      <td>all wheel drive</td>\n",
       "      <td>27</td>\n",
       "      <td>20</td>\n",
       "      <td>34995</td>\n",
       "    </tr>\n",
       "    <tr>\n",
       "      <th>7614</th>\n",
       "      <td>Honda</td>\n",
       "      <td>Pilot</td>\n",
       "      <td>2016</td>\n",
       "      <td>280.0</td>\n",
       "      <td>6.0</td>\n",
       "      <td>AUTOMATIC</td>\n",
       "      <td>front wheel drive</td>\n",
       "      <td>27</td>\n",
       "      <td>19</td>\n",
       "      <td>30145</td>\n",
       "    </tr>\n",
       "    <tr>\n",
       "      <th>3925</th>\n",
       "      <td>Buick</td>\n",
       "      <td>Enclave</td>\n",
       "      <td>2016</td>\n",
       "      <td>288.0</td>\n",
       "      <td>6.0</td>\n",
       "      <td>AUTOMATIC</td>\n",
       "      <td>front wheel drive</td>\n",
       "      <td>22</td>\n",
       "      <td>15</td>\n",
       "      <td>43660</td>\n",
       "    </tr>\n",
       "    <tr>\n",
       "      <th>3962</th>\n",
       "      <td>Buick</td>\n",
       "      <td>Encore</td>\n",
       "      <td>2017</td>\n",
       "      <td>138.0</td>\n",
       "      <td>4.0</td>\n",
       "      <td>AUTOMATIC</td>\n",
       "      <td>front wheel drive</td>\n",
       "      <td>33</td>\n",
       "      <td>25</td>\n",
       "      <td>29065</td>\n",
       "    </tr>\n",
       "  </tbody>\n",
       "</table>\n",
       "</div>"
      ],
      "text/plain": [
       "                Make            Model  Year     HP  Cylinders Transmission  \\\n",
       "8092           Dodge          RAM 250  1992  230.0        8.0       MANUAL   \n",
       "11745         Nissan           Xterra  2013  261.0        6.0       MANUAL   \n",
       "10735           Ford    Transit Wagon  2017  275.0        6.0    AUTOMATIC   \n",
       "8689           Lexus          RX 450h  2015  295.0        6.0    AUTOMATIC   \n",
       "3060           Honda             CR-V  2016  185.0        4.0    AUTOMATIC   \n",
       "9672   Mercedes-Benz        SLC-Class  2017  241.0        4.0    AUTOMATIC   \n",
       "8416           Lexus             RC F  2016  467.0        8.0    AUTOMATIC   \n",
       "10786      Chevrolet             Trax  2017  138.0        4.0    AUTOMATIC   \n",
       "9601       Chevrolet   Silverado 1500  2017  285.0        6.0    AUTOMATIC   \n",
       "9404             GMC    Sierra 1500HD  2006  300.0        8.0    AUTOMATIC   \n",
       "3833         Hyundai    Elantra Coupe  2013  145.0        4.0    AUTOMATIC   \n",
       "11431           Ford         Windstar  2001  200.0        6.0    AUTOMATIC   \n",
       "3797            Ford             Edge  2015  245.0        4.0    AUTOMATIC   \n",
       "2645       Chevrolet  C/K 1500 Series  1998  200.0        6.0       MANUAL   \n",
       "4608            Ford            F-250  1997  220.0        8.0       MANUAL   \n",
       "1448          Nissan           Armada  2017  390.0        8.0    AUTOMATIC   \n",
       "11461         Subaru              WRX  2016  268.0        4.0       MANUAL   \n",
       "23              Audi              100  1993  172.0        6.0    AUTOMATIC   \n",
       "527              BMW         5 Series  2016  240.0        4.0    AUTOMATIC   \n",
       "7274           Lexus          NX 200t  2016  235.0        4.0    AUTOMATIC   \n",
       "8187           Dodge  Ram Pickup 1500  2010  310.0        8.0    AUTOMATIC   \n",
       "7348          Subaru          Outback  2017  256.0        6.0    AUTOMATIC   \n",
       "7614           Honda            Pilot  2016  280.0        6.0    AUTOMATIC   \n",
       "3925           Buick          Enclave  2016  288.0        6.0    AUTOMATIC   \n",
       "3962           Buick           Encore  2017  138.0        4.0    AUTOMATIC   \n",
       "\n",
       "              Drive Mode  MPG-H  MPG-C  Price  \n",
       "8092    rear wheel drive     16     11   2000  \n",
       "11745   four wheel drive     20     16  29440  \n",
       "10735   rear wheel drive     19     14  42220  \n",
       "8689     all wheel drive     28     30  49020  \n",
       "3060     all wheel drive     31     25  25845  \n",
       "9672    rear wheel drive     32     25  47950  \n",
       "8416    rear wheel drive     25     16  62805  \n",
       "10786  front wheel drive     33     25  21000  \n",
       "9601    rear wheel drive     24     18  37835  \n",
       "9404    four wheel drive     16     13  34640  \n",
       "3833   front wheel drive     37     27  20895  \n",
       "11431  front wheel drive     22     16  25000  \n",
       "3797     all wheel drive     28     20  37595  \n",
       "2645    rear wheel drive     21     16   2580  \n",
       "4608    rear wheel drive     17     12   2787  \n",
       "1448    four wheel drive     18     13  60490  \n",
       "11461    all wheel drive     27     20  28895  \n",
       "23       all wheel drive     20     16   2000  \n",
       "527     rear wheel drive     34     23  50200  \n",
       "7274   front wheel drive     28     22  34965  \n",
       "8187    rear wheel drive     19     14  25155  \n",
       "7348     all wheel drive     27     20  34995  \n",
       "7614   front wheel drive     27     19  30145  \n",
       "3925   front wheel drive     22     15  43660  \n",
       "3962   front wheel drive     33     25  29065  "
      ]
     },
     "execution_count": 10,
     "metadata": {},
     "output_type": "execute_result"
    }
   ],
   "source": [
    "df = df.drop_duplicates()\n",
    "df.head(25)\n",
    "df.sample(25)"
   ]
  },
  {
   "cell_type": "code",
   "execution_count": 36,
   "metadata": {
    "id": "2gMM4lb0Vzor",
    "outputId": "f04e1803-e7de-4cbf-fdeb-8449a8051a07"
   },
   "outputs": [
    {
     "data": {
      "text/plain": [
       "Make            10925\n",
       "Model           10925\n",
       "Year            10925\n",
       "HP              10856\n",
       "Cylinders       10895\n",
       "Transmission    10925\n",
       "Drive Mode      10925\n",
       "MPG-H           10925\n",
       "MPG-C           10925\n",
       "Price           10925\n",
       "dtype: int64"
      ]
     },
     "execution_count": 36,
     "metadata": {},
     "output_type": "execute_result"
    }
   ],
   "source": [
    "df.count()"
   ]
  },
  {
   "cell_type": "markdown",
   "metadata": {
    "id": "zCLUdZOQ1PDP"
   },
   "source": [
    "\n",
    "\n",
    "---\n",
    "\n"
   ]
  },
  {
   "cell_type": "markdown",
   "metadata": {
    "id": "JkXUQtyQW3Dy"
   },
   "source": [
    "## 7. Dropping the missing or null values."
   ]
  },
  {
   "cell_type": "markdown",
   "metadata": {
    "id": "K5pKvJi41YCp"
   },
   "source": [
    "This is mostly similar to the previous step but in here all the missing values are detected and are dropped later. Now, this is not a good approach to do so, because many people just replace the missing values with the mean or the average of that column, but in this case, I just dropped that missing values. This is because there is nearly 100 missing value compared to 10, 000 values this is a small number and this is negligible so I just dropped those values."
   ]
  },
  {
   "cell_type": "code",
   "execution_count": 13,
   "metadata": {
    "id": "Tzdlg-1OWjMz",
    "outputId": "7375ab6e-1473-4346-e5b5-0c61189cc716"
   },
   "outputs": [
    {
     "name": "stdout",
     "output_type": "stream",
     "text": [
      "Make             0\n",
      "Model            0\n",
      "Year             0\n",
      "HP              69\n",
      "Cylinders       30\n",
      "Transmission     0\n",
      "Drive Mode       0\n",
      "MPG-H            0\n",
      "MPG-C            0\n",
      "Price            0\n",
      "dtype: int64\n"
     ]
    }
   ],
   "source": [
    "# print(df.isnull())\n",
    "print(df.isnull().sum())"
   ]
  },
  {
   "cell_type": "markdown",
   "metadata": {
    "id": "iWJqTVxTJQnO"
   },
   "source": [
    "This is the reason in the above step while counting both Cylinders and Horsepower (HP) had 10856 and 10895 over 10925 rows."
   ]
  },
  {
   "cell_type": "code",
   "execution_count": 14,
   "metadata": {
    "id": "KbbV0xHPWoad",
    "outputId": "17dda8ec-1282-4814-de79-8f5e1aff3a5f"
   },
   "outputs": [
    {
     "data": {
      "text/plain": [
       "Make            10827\n",
       "Model           10827\n",
       "Year            10827\n",
       "HP              10827\n",
       "Cylinders       10827\n",
       "Transmission    10827\n",
       "Drive Mode      10827\n",
       "MPG-H           10827\n",
       "MPG-C           10827\n",
       "Price           10827\n",
       "dtype: int64"
      ]
     },
     "execution_count": 14,
     "metadata": {},
     "output_type": "execute_result"
    }
   ],
   "source": [
    "df = df.dropna()    # Dropping the missing values.\n",
    "df.count()"
   ]
  },
  {
   "cell_type": "markdown",
   "metadata": {
    "id": "2t7L9l2mJSoX"
   },
   "source": [
    "Now we have removed all the rows which contain the Null or N/A values (Cylinders and Horsepower (HP))."
   ]
  },
  {
   "cell_type": "code",
   "execution_count": 15,
   "metadata": {
    "id": "V-DmX1O4Wtox",
    "outputId": "2d50fc20-3535-413b-e317-75a7f94fa2a2"
   },
   "outputs": [
    {
     "name": "stdout",
     "output_type": "stream",
     "text": [
      "Make            0\n",
      "Model           0\n",
      "Year            0\n",
      "HP              0\n",
      "Cylinders       0\n",
      "Transmission    0\n",
      "Drive Mode      0\n",
      "MPG-H           0\n",
      "MPG-C           0\n",
      "Price           0\n",
      "dtype: int64\n"
     ]
    }
   ],
   "source": [
    "print(df.isnull().sum())   # After dropping the values"
   ]
  },
  {
   "cell_type": "markdown",
   "metadata": {
    "id": "bk8RAHqQJVJK"
   },
   "source": [
    "\n",
    "\n",
    "---\n",
    "\n"
   ]
  },
  {
   "cell_type": "markdown",
   "metadata": {
    "id": "8Py3sQc_ZxyU"
   },
   "source": [
    "## 8. Detecting Outliers"
   ]
  },
  {
   "cell_type": "markdown",
   "metadata": {
    "id": "1g6CJPofZzHN"
   },
   "source": [
    "An outlier is a point or set of points that are different from other points. Sometimes they can be very high or very low. It's often a good idea to detect and remove the outliers. Because outliers are one of the primary reasons for resulting in a less accurate model. Hence it's a good idea to remove them. The outlier detection and removing that I am going to perform is called IQR score technique. Often outliers can be seen with visualizations using a box plot. Shown below are the box plot of MSRP, Cylinders, Horsepower and EngineSize. Herein all the plots, you can find some points are outside the box they are none other than outliers. The technique of finding and removing outlier that I am performing in this assignment is taken help of a tutorial from[ towards data science](https://towardsdatascience.com/ways-to-detect-and-remove-the-outliers-404d16608dba)."
   ]
  },
  {
   "cell_type": "code",
   "execution_count": 18,
   "metadata": {
    "id": "vtxX_y6zZ2ri",
    "outputId": "e3f93522-9244-4c32-c34c-103e0834e93b"
   },
   "outputs": [
    {
     "data": {
      "text/plain": [
       "<AxesSubplot:xlabel='Price'>"
      ]
     },
     "execution_count": 18,
     "metadata": {},
     "output_type": "execute_result"
    },
    {
     "data": {
      "image/png": "[encoded data removed]",
      "text/plain": [
       "<Figure size 640x480 with 1 Axes>"
      ]
     },
     "metadata": {},
     "output_type": "display_data"
    }
   ],
   "source": [
    "sns.boxplot(x=df['Price'])"
   ]
  },
  {
   "cell_type": "code",
   "execution_count": 19,
   "metadata": {
    "id": "9HtvQYVHZ8u5",
    "outputId": "3dc30a01-6fb1-41d9-dec8-0ceeead6a358"
   },
   "outputs": [
    {
     "data": {
      "text/plain": [
       "<AxesSubplot:xlabel='HP'>"
      ]
     },
     "execution_count": 19,
     "metadata": {},
     "output_type": "execute_result"
    },
    {
     "data": {
      "image/png": "[encoded data removed]",
      "text/plain": [
       "<Figure size 640x480 with 1 Axes>"
      ]
     },
     "metadata": {},
     "output_type": "display_data"
    }
   ],
   "source": [
    "sns.boxplot(x=df['HP'])"
   ]
  },
  {
   "cell_type": "code",
   "execution_count": 20,
   "metadata": {
    "id": "Xz3MwIjbaBUr",
    "outputId": "335d1e55-55a3-4e61-8401-a414580d9d62"
   },
   "outputs": [
    {
     "data": {
      "text/plain": [
       "<AxesSubplot:xlabel='Cylinders'>"
      ]
     },
     "execution_count": 20,
     "metadata": {},
     "output_type": "execute_result"
    },
    {
     "data": {
      "image/png": "[encoded data removed]",
      "text/plain": [
       "<Figure size 640x480 with 1 Axes>"
      ]
     },
     "metadata": {},
     "output_type": "display_data"
    }
   ],
   "source": [
    " sns.boxplot(x=df['Cylinders'])"
   ]
  },
  {
   "cell_type": "code",
   "execution_count": 17,
   "metadata": {
    "id": "cFG9hck7aHUx",
    "outputId": "7c09ff98-3725-4d56-9b97-ef6b43d0e17b"
   },
   "outputs": [
    {
     "name": "stdout",
     "output_type": "stream",
     "text": [
      "Year             9.0\n",
      "HP             130.0\n",
      "Cylinders        2.0\n",
      "MPG-H            8.0\n",
      "MPG-C            6.0\n",
      "Price        21327.5\n",
      "dtype: float64\n"
     ]
    }
   ],
   "source": [
    "Q1 = df.quantile(0.25)\n",
    "Q3 = df.quantile(0.75)\n",
    "IQR = Q3 - Q1\n",
    "print(IQR)"
   ]
  },
  {
   "cell_type": "markdown",
   "metadata": {
    "id": "kCv110_cJiDz"
   },
   "source": [
    "Don't worry about the above values because it's not important to know each and every one of them because it's just important to know how to use this technique in order to remove the outliers."
   ]
  },
  {
   "cell_type": "code",
   "execution_count": 18,
   "metadata": {
    "id": "igh_mRXeaJrI",
    "outputId": "44660b71-2eb7-4387-c599-e527640a7c21"
   },
   "outputs": [
    {
     "name": "stderr",
     "output_type": "stream",
     "text": [
      "C:\\Users\\jeet\\AppData\\Local\\Temp\\ipykernel_5828\\1471994467.py:1: FutureWarning: Automatic reindexing on DataFrame vs Series comparisons is deprecated and will raise ValueError in a future version. Do `left, right = left.align(right, axis=1, copy=False)` before e.g. `left == right`\n",
      "  df = df[~((df < (Q1 - 1.5 * IQR)) |(df > (Q3 + 1.5 * IQR))).any(axis=1)]\n"
     ]
    },
    {
     "data": {
      "text/plain": [
       "(9191, 10)"
      ]
     },
     "execution_count": 18,
     "metadata": {},
     "output_type": "execute_result"
    }
   ],
   "source": [
    "df = df[~((df < (Q1 - 1.5 * IQR)) |(df > (Q3 + 1.5 * IQR))).any(axis=1)]\n",
    "df.shape\n",
    "# tilde"
   ]
  },
  {
   "cell_type": "markdown",
   "metadata": {
    "id": "9Nh93DCGJkqT"
   },
   "source": [
    "As seen above there were around 1600 rows were outliers. But you cannot completely remove the outliers because even after you use the above technique there maybe 1–2 outlier unremoved but that ok because there were more than 100 outliers. Something is better than nothing."
   ]
  },
  {
   "cell_type": "markdown",
   "metadata": {
    "id": "Z87kHbgvaQbb"
   },
   "source": [
    "\n",
    "\n",
    "---\n",
    "\n"
   ]
  },
  {
   "cell_type": "markdown",
   "metadata": {
    "id": "WqFPRda8eEp_"
   },
   "source": [
    "## 9. Plot different features against one another (scatter), against frequency (histogram)"
   ]
  },
  {
   "cell_type": "markdown",
   "metadata": {
    "id": "Z-W6Q9-hJosZ"
   },
   "source": [
    "### Histogram\n",
    "\n",
    "Histogram refers to the frequency of occurrence of variables in an interval. In this case, there are mainly 10 different types of car manufacturing companies, but it is often important to know who has the most number of cars. To do this histogram is one of the trivial solutions which lets us know the total number of car manufactured by a different company."
   ]
  },
  {
   "cell_type": "code",
   "execution_count": 23,
   "metadata": {
    "id": "dAnd4DSyeHDb",
    "outputId": "44b04e39-9dc7-40fc-9ddb-b7182f4f6e1f"
   },
   "outputs": [
    {
     "data": {
      "text/plain": [
       "Text(0.5, 0, 'Make')"
      ]
     },
     "execution_count": 23,
     "metadata": {},
     "output_type": "execute_result"
    },
    {
     "data": {
      "image/png": "[encoded data removed]",
      "text/plain": [
       "<Figure size 1000x500 with 1 Axes>"
      ]
     },
     "metadata": {},
     "output_type": "display_data"
    }
   ],
   "source": [
    "df.Make.value_counts().nlargest(40).plot(kind='bar', figsize=(10,5))\n",
    "plt.title(\"Number of cars by make\")\n",
    "plt.ylabel('Number of cars')\n",
    "plt.xlabel('Make')\n",
    "\n",
    "\n",
    "# sns.countplot(x = \"Make\", data = df)"
   ]
  },
  {
   "cell_type": "markdown",
   "metadata": {
    "id": "c37WtYYWJuAQ"
   },
   "source": [
    "### Heat Maps\n",
    "\n",
    "Heat Maps is a type of plot which is necessary when we need to find the dependent variables. One of the best way to find the relationship between the features can be done using heat maps. In the below heat map we know that the price feature depends mainly on the Engine Size, Horsepower, and Cylinders."
   ]
  },
  {
   "cell_type": "code",
   "execution_count": 42,
   "metadata": {
    "id": "yhHfLVTj6nmy",
    "outputId": "50a65ae0-841a-42ec-87e6-1a99da1ea57b"
   },
   "outputs": [
    {
     "data": {
      "text/html": [
       "<div>\n",
       "<style scoped>\n",
       "    .dataframe tbody tr th:only-of-type {\n",
       "        vertical-align: middle;\n",
       "    }\n",
       "\n",
       "    .dataframe tbody tr th {\n",
       "        vertical-align: top;\n",
       "    }\n",
       "\n",
       "    .dataframe thead th {\n",
       "        text-align: right;\n",
       "    }\n",
       "</style>\n",
       "<table border=\"1\" class=\"dataframe\">\n",
       "  <thead>\n",
       "    <tr style=\"text-align: right;\">\n",
       "      <th></th>\n",
       "      <th>Year</th>\n",
       "      <th>HP</th>\n",
       "      <th>Cylinders</th>\n",
       "      <th>MPG-H</th>\n",
       "      <th>MPG-C</th>\n",
       "      <th>Price</th>\n",
       "    </tr>\n",
       "  </thead>\n",
       "  <tbody>\n",
       "    <tr>\n",
       "      <th>Year</th>\n",
       "      <td>1.000000</td>\n",
       "      <td>0.314971</td>\n",
       "      <td>-0.050598</td>\n",
       "      <td>0.284237</td>\n",
       "      <td>0.234135</td>\n",
       "      <td>0.196789</td>\n",
       "    </tr>\n",
       "    <tr>\n",
       "      <th>HP</th>\n",
       "      <td>0.314971</td>\n",
       "      <td>1.000000</td>\n",
       "      <td>0.788007</td>\n",
       "      <td>-0.420281</td>\n",
       "      <td>-0.473551</td>\n",
       "      <td>0.659835</td>\n",
       "    </tr>\n",
       "    <tr>\n",
       "      <th>Cylinders</th>\n",
       "      <td>-0.050598</td>\n",
       "      <td>0.788007</td>\n",
       "      <td>1.000000</td>\n",
       "      <td>-0.611576</td>\n",
       "      <td>-0.632407</td>\n",
       "      <td>0.554740</td>\n",
       "    </tr>\n",
       "    <tr>\n",
       "      <th>MPG-H</th>\n",
       "      <td>0.284237</td>\n",
       "      <td>-0.420281</td>\n",
       "      <td>-0.611576</td>\n",
       "      <td>1.000000</td>\n",
       "      <td>0.841229</td>\n",
       "      <td>-0.209150</td>\n",
       "    </tr>\n",
       "    <tr>\n",
       "      <th>MPG-C</th>\n",
       "      <td>0.234135</td>\n",
       "      <td>-0.473551</td>\n",
       "      <td>-0.632407</td>\n",
       "      <td>0.841229</td>\n",
       "      <td>1.000000</td>\n",
       "      <td>-0.234050</td>\n",
       "    </tr>\n",
       "    <tr>\n",
       "      <th>Price</th>\n",
       "      <td>0.196789</td>\n",
       "      <td>0.659835</td>\n",
       "      <td>0.554740</td>\n",
       "      <td>-0.209150</td>\n",
       "      <td>-0.234050</td>\n",
       "      <td>1.000000</td>\n",
       "    </tr>\n",
       "  </tbody>\n",
       "</table>\n",
       "</div>"
      ],
      "text/plain": [
       "               Year        HP  Cylinders     MPG-H     MPG-C     Price\n",
       "Year       1.000000  0.314971  -0.050598  0.284237  0.234135  0.196789\n",
       "HP         0.314971  1.000000   0.788007 -0.420281 -0.473551  0.659835\n",
       "Cylinders -0.050598  0.788007   1.000000 -0.611576 -0.632407  0.554740\n",
       "MPG-H      0.284237 -0.420281  -0.611576  1.000000  0.841229 -0.209150\n",
       "MPG-C      0.234135 -0.473551  -0.632407  0.841229  1.000000 -0.234050\n",
       "Price      0.196789  0.659835   0.554740 -0.209150 -0.234050  1.000000"
      ]
     },
     "execution_count": 42,
     "metadata": {},
     "output_type": "execute_result"
    },
    {
     "data": {
      "image/png": "[encoded data removed]",
      "text/plain": [
       "<Figure size 1000x500 with 2 Axes>"
      ]
     },
     "metadata": {},
     "output_type": "display_data"
    }
   ],
   "source": [
    "plt.figure(figsize=(10,5))\n",
    "c= df.corr()\n",
    "sns.heatmap(c,cmap=\"PiYG\",annot=True)\n",
    "c"
   ]
  },
  {
   "cell_type": "markdown",
   "metadata": {
    "id": "1ROThOLQfRZw"
   },
   "source": [
    "### Scatterplot\n",
    "\n",
    "We generally use scatter plots to find the correlation between two variables. Here the scatter plots are plotted between Horsepower and Price and we can see the plot below. With the plot given below, we can easily draw a trend line. These features provide a good scattering of points."
   ]
  },
  {
   "cell_type": "code",
   "execution_count": 25,
   "metadata": {
    "id": "2aOfHNFefSrX",
    "outputId": "4b5286f0-5419-48bc-d2de-476aeb36f022"
   },
   "outputs": [
    {
     "data": {
      "image/png": "[encoded data removed]",
      "text/plain": [
       "<Figure size 1000x600 with 1 Axes>"
      ]
     },
     "metadata": {},
     "output_type": "display_data"
    }
   ],
   "source": [
    "fig, ax = plt.subplots(figsize=(10,6))\n",
    "ax.scatter(df['HP'], df['Price'])\n",
    "ax.set_xlabel('HP')\n",
    "ax.set_ylabel('Price')\n",
    "plt.show()"
   ]
  },
  {
   "cell_type": "markdown",
   "metadata": {
    "id": "hQXy8o_gKFS5"
   },
   "source": [
    "**Hence the above are some of the steps involved in Exploratory data analysis, these are some general steps that you must follow in order to perform EDA. There are many more yet to come but for now, this is more than enough idea as to how to perform a good EDA given any data sets. Stay tuned for more updates.**\n",
    "\n",
    "## Thank you."
   ]
  }
 ],
 "metadata": {
  "kernelspec": {
   "display_name": "Python 3 (ipykernel)",
   "language": "python",
   "name": "python3"
  },
  "language_info": {
   "codemirror_mode": {
    "name": "ipython",
    "version": 3
   },
   "file_extension": ".py",
   "mimetype": "text/x-python",
   "name": "python",
   "nbconvert_exporter": "python",
   "pygments_lexer": "ipython3",
   "version": "3.12.1"
  }
 },
 "nbformat": 4,
 "nbformat_minor": 4
}
